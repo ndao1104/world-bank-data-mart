{
 "cells": [
  {
   "cell_type": "code",
   "execution_count": 1,
   "id": "45d89f53-6c8d-4faa-8c14-441e8a57974e",
   "metadata": {},
   "outputs": [],
   "source": [
    "import time\n",
    "import pandas as pd\n",
    "from sklearn.model_selection import train_test_split\n",
    "from sklearn.tree import DecisionTreeClassifier\n",
    "from sklearn.ensemble import GradientBoostingClassifier\n",
    "from sklearn.ensemble import RandomForestClassifier\n",
    "from sklearn.metrics import accuracy_score\n",
    "from sklearn.metrics import precision_score\n",
    "from sklearn.metrics import recall_score"
   ]
  },
  {
   "cell_type": "code",
   "execution_count": 2,
   "id": "f1a3a7ba-ee56-40e0-a6ba-4881fbdab7e3",
   "metadata": {},
   "outputs": [],
   "source": [
    "df = pd.read_csv('d4_processed.csv')"
   ]
  },
  {
   "cell_type": "code",
   "execution_count": 3,
   "id": "afa68060-6592-414b-97fc-ace9d5aadcfc",
   "metadata": {},
   "outputs": [],
   "source": [
    "y = df.pop('human_development_index')\n",
    "X = df"
   ]
  },
  {
   "cell_type": "code",
   "execution_count": 4,
   "id": "bb699852-4ad1-488b-84fe-3255d714e5eb",
   "metadata": {},
   "outputs": [],
   "source": [
    "X_train, X_test, y_train, y_test = train_test_split(X, y, test_size=0.2)"
   ]
  },
  {
   "cell_type": "code",
   "execution_count": 5,
   "id": "94a57292-442e-485d-a7b2-c018e7013047",
   "metadata": {},
   "outputs": [],
   "source": [
    "def run_experiments(X_train, X_test, y_train, y_test, classifiers):\n",
    "    results = []\n",
    "    \n",
    "    for c in classifiers:\n",
    "        classifier = classifiers[c]\n",
    "        \n",
    "        start_time = time.time()\n",
    "        classifier.fit(X_train, y_train)\n",
    "        end_time = time.time()\n",
    "        \n",
    "        y_pred = classifier.predict(X_test)\n",
    "        \n",
    "        result = {\n",
    "            'Classifier': str(c),\n",
    "            'Training Time': end_time - start_time,\n",
    "            'Accuracy': accuracy_score(y_test, y_pred),\n",
    "            'Precision': precision_score(y_test, y_pred, average='weighted', zero_division=1),\n",
    "            'Recall': recall_score(y_test, y_pred, average='weighted', zero_division=1)\n",
    "        }\n",
    "        \n",
    "        results.append(result)        \n",
    "    return results"
   ]
  },
  {
   "cell_type": "code",
   "execution_count": 6,
   "id": "0cc0d3de-4c06-4813-a7f6-8c513d04cc37",
   "metadata": {},
   "outputs": [],
   "source": [
    "classifiers= {\n",
    "    'Decision tree': DecisionTreeClassifier(),\n",
    "    'Gradient boosting': GradientBoostingClassifier(),\n",
    "    'Random forest': RandomForestClassifier()\n",
    "}\n",
    "\n",
    "results = run_experiments(X_train, X_test, y_train, y_test, classifiers)"
   ]
  },
  {
   "cell_type": "code",
   "execution_count": 7,
   "id": "58d8dd35-5177-4547-9bf6-e656a42c1ae6",
   "metadata": {},
   "outputs": [
    {
     "name": "stdout",
     "output_type": "stream",
     "text": [
      "{'Classifier': 'Decision tree', 'Training Time': 0.002000570297241211, 'Accuracy': 0.7586206896551724, 'Precision': 0.7980295566502463, 'Recall': 0.7586206896551724}\n",
      "{'Classifier': 'Gradient boosting', 'Training Time': 0.3590817451477051, 'Accuracy': 0.8620689655172413, 'Precision': 0.9181034482758621, 'Recall': 0.8620689655172413}\n",
      "{'Classifier': 'Random forest', 'Training Time': 0.08801984786987305, 'Accuracy': 0.6206896551724138, 'Precision': 0.7448275862068966, 'Recall': 0.6206896551724138}\n"
     ]
    }
   ],
   "source": [
    "for result in results:\n",
    "    print(result)"
   ]
  },
  {
   "cell_type": "code",
   "execution_count": null,
   "id": "7a9ba968-be42-46e0-b85b-10c78268a9d8",
   "metadata": {},
   "outputs": [],
   "source": []
  }
 ],
 "metadata": {
  "kernelspec": {
   "display_name": "Python 3 (ipykernel)",
   "language": "python",
   "name": "python3"
  },
  "language_info": {
   "codemirror_mode": {
    "name": "ipython",
    "version": 3
   },
   "file_extension": ".py",
   "mimetype": "text/x-python",
   "name": "python",
   "nbconvert_exporter": "python",
   "pygments_lexer": "ipython3",
   "version": "3.10.2"
  }
 },
 "nbformat": 4,
 "nbformat_minor": 5
}
